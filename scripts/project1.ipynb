{
 "cells": [
  {
   "cell_type": "code",
   "execution_count": null,
   "metadata": {},
   "outputs": [],
   "source": [
    "# Useful starting lines\n",
    "%matplotlib inline\n",
    "import numpy as np\n",
    "import matplotlib.pyplot as plt\n",
    "from implementations import *\n",
    "from extend import *\n",
    "from gradient_descent import *\n",
    "from stochastic_gradient_descent import *\n",
    "from newton_method import *\n",
    "from logistic_regression import *\n",
    "%load_ext autoreload\n",
    "%autoreload 2"
   ]
  },
  {
   "cell_type": "code",
   "execution_count": null,
   "metadata": {},
   "outputs": [],
   "source": [
    "!jupyter nbconvert --to script project1.ipynb"
   ]
  },
  {
   "cell_type": "markdown",
   "metadata": {},
   "source": [
    "## Load the training data into feature matrix, class labels, and event ids:"
   ]
  },
  {
   "cell_type": "code",
   "execution_count": null,
   "metadata": {},
   "outputs": [],
   "source": [
    "#from proj1_helpers import *\n",
    "from proj1_helpers_tanh import *\n",
    "DATA_TRAIN_PATH = '../data/train.csv'\n",
    "y, x, ids = load_csv_data(DATA_TRAIN_PATH)\n",
    "print(y.shape)"
   ]
  },
  {
   "cell_type": "markdown",
   "metadata": {
    "tags": []
   },
   "source": [
    "## Do your thing crazy machine learning thing here :) ..."
   ]
  },
  {
   "cell_type": "code",
   "execution_count": null,
   "metadata": {},
   "outputs": [],
   "source": [
    "tX = np.copy(x)"
   ]
  },
  {
   "cell_type": "code",
   "execution_count": null,
   "metadata": {},
   "outputs": [],
   "source": [
    "#data cleaning\n",
    "mean_by_col = []\n",
    "for i in range(tX.shape[1]):\n",
    "    col = tX[:,i]\n",
    "    places_999 = (col == -999.0)\n",
    "    mean_col = col[col!=-999.0].mean()\n",
    "    col[places_999] = mean_col\n",
    "    tX[:,i] = col\n",
    "    mean_by_col.append(mean_col)"
   ]
  },
  {
   "cell_type": "code",
   "execution_count": null,
   "metadata": {},
   "outputs": [],
   "source": [
    "np.all(tX > 0,axis=0).sum()"
   ]
  },
  {
   "cell_type": "code",
   "execution_count": null,
   "metadata": {},
   "outputs": [],
   "source": [
    "#feature expansion on only certain features\n",
    "positive_columns = tX[:,np.all(tX > 0,axis=0)]\n",
    "positive_columns_log = np.log(positive_columns)\n",
    "not_zero_columns = tX[:, np.all(tX != 0,axis=0)]\n",
    "not_zero_columns_inv = 1 / not_zero_columns"
   ]
  },
  {
   "cell_type": "code",
   "execution_count": null,
   "metadata": {},
   "outputs": [],
   "source": [
    "positive_columns.shape"
   ]
  },
  {
   "cell_type": "code",
   "execution_count": null,
   "metadata": {},
   "outputs": [],
   "source": [
    "#feature expansion\n",
    "degree = 7\n",
    "tX = build_poly(tX, degree)\n",
    "print(tX.shape)\n",
    "tX = tX[:,1:]\n",
    "print(tX.shape)\n",
    "tX = extend(tX,[ np.cos, np.sin])\n",
    "print(tX.shape)"
   ]
  },
  {
   "cell_type": "code",
   "execution_count": null,
   "metadata": {},
   "outputs": [],
   "source": [
    "#Adding the special feature expansions\n",
    "tX = np.c_[(tX, positive_columns_log)]\n",
    "tX = np.c_[(tX, not_zero_columns_inv)]\n",
    "tX = np.c_[(tX, not_zero_columns_inv**2)]\n",
    "\n",
    "for i in range(18) :\n",
    "    for j in range(18) :\n",
    "        if j > i : \n",
    "            tX = np.c_[(tX, tX[:, i] * tX[:, j])]\n",
    "            tX = np.c_[(tX, tX[:, i + 30] * tX[:, j + 30])]\n",
    "            tX = np.c_[(tX, tX[:, i + 60] * tX[:, j + 60])]\n",
    "            "
   ]
  },
  {
   "cell_type": "code",
   "execution_count": null,
   "metadata": {},
   "outputs": [],
   "source": [
    "tX.shape"
   ]
  },
  {
   "cell_type": "code",
   "execution_count": null,
   "metadata": {
    "scrolled": true
   },
   "outputs": [],
   "source": [
    "mean = np.mean(tX,axis = 0)\n",
    "std = np.std(tX,axis = 0)\n",
    "tX = (tX-mean)/std"
   ]
  },
  {
   "cell_type": "code",
   "execution_count": null,
   "metadata": {},
   "outputs": [],
   "source": [
    "mean.shape"
   ]
  },
  {
   "cell_type": "code",
   "execution_count": null,
   "metadata": {},
   "outputs": [],
   "source": [
    "tX = np.c_[(np.ones(tX.shape[0]) , tX)]"
   ]
  },
  {
   "cell_type": "code",
   "execution_count": null,
   "metadata": {
    "scrolled": true
   },
   "outputs": [],
   "source": [
    "tX.shape"
   ]
  },
  {
   "cell_type": "code",
   "execution_count": null,
   "metadata": {},
   "outputs": [],
   "source": [
    "from tanh_gradient_descent import *"
   ]
  },
  {
   "cell_type": "code",
   "execution_count": null,
   "metadata": {
    "scrolled": false
   },
   "outputs": [],
   "source": [
    "w = np.zeros((tX.shape[1]) )\n",
    "max_iters = 500 #choosing number of iterations\n",
    "gamma = 1.0\n",
    "#w,loss = adaptative_step_gradient_descent(y, tX, w, max_iters, gamma)\n",
    "w,loss = newton_method(y,tX,w,max_iters,gamma)\n",
    "loss"
   ]
  },
  {
   "cell_type": "markdown",
   "metadata": {},
   "source": [
    "## Generate predictions and save ouput in csv format for submission:"
   ]
  },
  {
   "cell_type": "code",
   "execution_count": null,
   "metadata": {},
   "outputs": [],
   "source": [
    "DATA_TEST_PATH = '../data/test.csv' # TODO: download train data and supply path here \n",
    "_, xx, ids_test = load_csv_data(DATA_TEST_PATH)"
   ]
  },
  {
   "cell_type": "code",
   "execution_count": null,
   "metadata": {},
   "outputs": [],
   "source": [
    "tX_test = xx.copy()"
   ]
  },
  {
   "cell_type": "code",
   "execution_count": null,
   "metadata": {},
   "outputs": [],
   "source": [
    "for i in range(tX_test.shape[1]):\n",
    "    col = tX_test[:,i]\n",
    "    places_999 = (col == -999.0)\n",
    "    mean_col = col[col!=-999.0].mean()\n",
    "    col[places_999] = mean_col\n",
    "    tX_test[:,i] = col"
   ]
  },
  {
   "cell_type": "code",
   "execution_count": null,
   "metadata": {},
   "outputs": [],
   "source": [
    "positive_columns = tX_test[:,np.all(tX_test > 0,axis=0)]\n",
    "positive_columns_log = np.log(positive_columns)\n",
    "not_zero_columns = tX_test[:, np.all(tX_test != 0,axis=0)]\n",
    "not_zero_columns_inv = 1 / not_zero_columns"
   ]
  },
  {
   "cell_type": "code",
   "execution_count": null,
   "metadata": {},
   "outputs": [],
   "source": [
    "positive_columns_log.shape"
   ]
  },
  {
   "cell_type": "code",
   "execution_count": null,
   "metadata": {},
   "outputs": [],
   "source": [
    "tX_test = build_poly(tX_test, degree)\n",
    "print(tX_test.shape)\n",
    "tX_test = tX_test[:,1:]\n",
    "print(tX_test.shape)\n",
    "tX_test = extend(tX_test,[np.cos,np.sin])\n",
    "#print(tX_test.shape)\n",
    "tX_test = np.c_[(tX_test, positive_columns_log)]\n",
    "tX_test = np.c_[(tX_test, not_zero_columns_inv)]\n",
    "tX_test = np.c_[(tX_test, not_zero_columns_inv**2)]\n",
    "\n",
    "for i in range(18) :\n",
    "    for j in range(18) :\n",
    "        if j > i : \n",
    "            tX_test = np.c_[(tX_test, tX_test[:, i] * tX_test[:, j])]\n",
    "            tX_test = np.c_[(tX_test, tX_test[:, i + 30] * tX_test[:, j + 30])]\n",
    "            tX_test = np.c_[(tX_test, tX_test[:, i + 60] * tX_test[:, j + 60])]\n",
    "            \n",
    "print(tX_test.shape)\n",
    "tX_test = (tX_test-mean)/std\n",
    "#tX_test = extend(tX_test,[np.tanh])"
   ]
  },
  {
   "cell_type": "code",
   "execution_count": null,
   "metadata": {},
   "outputs": [],
   "source": [
    "tX_test.shape"
   ]
  },
  {
   "cell_type": "code",
   "execution_count": null,
   "metadata": {},
   "outputs": [],
   "source": [
    "tX_test = np.c_[(np.ones(tX_test.shape[0]) , tX_test)]"
   ]
  },
  {
   "cell_type": "code",
   "execution_count": null,
   "metadata": {},
   "outputs": [],
   "source": [
    "OUTPUT_PATH = '../data/output.csv' # TODO: fill in desired name of output file for submission\n",
    "#for logistic regression\n",
    "#y_pred = np.dot(tX_test, w) * 2 - 1\n",
    "#y_pred[np.where(y_pred <= 0)] = -1\n",
    "#y_pred[np.where(y_pred > 0)] = 1\n",
    "y_pred = predict_labels(w, tX_test)\n",
    "create_csv_submission(ids_test, y_pred, OUTPUT_PATH)"
   ]
  },
  {
   "cell_type": "code",
   "execution_count": null,
   "metadata": {},
   "outputs": [],
   "source": []
  }
 ],
 "metadata": {
  "anaconda-cloud": {},
  "kernelspec": {
   "display_name": "Python 3",
   "language": "python",
   "name": "python3"
  },
  "language_info": {
   "codemirror_mode": {
    "name": "ipython",
    "version": 3
   },
   "file_extension": ".py",
   "mimetype": "text/x-python",
   "name": "python",
   "nbconvert_exporter": "python",
   "pygments_lexer": "ipython3",
   "version": "3.8.3"
  }
 },
 "nbformat": 4,
 "nbformat_minor": 4
}
